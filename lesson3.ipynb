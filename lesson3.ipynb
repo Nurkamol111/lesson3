{
 "cells": [
  {
   "cell_type": "code",
   "execution_count": null,
   "metadata": {},
   "outputs": [],
   "source": [
    "def minus(a,b):\n",
    "    result=a-b\n",
    "    print(result)\n",
    "    minus(a,b)\n",
    "a=int(input(\"write the number of total students:\"))\n",
    "b=int(input(\"write the number of dropouts:\"))\n",
    "\n",
    "if result >= 0:\n",
    "    print(\"Too many dropouts! The course is doomed!\")\n",
    "if result < 0:\n",
    "    print(\"not enough dropouts\")\n"
   ]
  },
  {
   "cell_type": "code",
   "execution_count": 1,
   "metadata": {},
   "outputs": [
    {
     "name": "stdout",
     "output_type": "stream",
     "text": [
      "Checking result of students from exams\n",
      "minimum passing percentage is 60%\n",
      "total score which students can earn:89\n",
      "score which student earn:78\n",
      "percentage that student eraned: 87.64044943820225%\n",
      "Conguratulations!!! you are passed the exam \n"
     ]
    }
   ],
   "source": [
    "def sub(b,a):\n",
    "    c=b/a\n",
    "    print(c)\n",
    "print(\"Checking result of students from exams\")\n",
    "print(\"minimum passing percentage is 60%\")\n",
    "a=int(input(\"total score which students can earn:\"))\n",
    "b=int(input(\"score which student earn:\"))\n",
    "c=b/a\n",
    "d=c*100\n",
    "print(f\"percentage that student eraned: {d}%\")\n",
    "if d>=60:\n",
    "    print(\"Conguratulations!!! you are passed the exam \")\n",
    "if d<60:\n",
    "    print(\"your percentage is not enaugh to passing the exam :(\")\n",
    "\n",
    "    "
   ]
  },
  {
   "cell_type": "code",
   "execution_count": null,
   "metadata": {},
   "outputs": [
    {
     "name": "stdout",
     "output_type": "stream",
     "text": [
      "menu:\n",
      "cola-4$\n",
      "burger-7$\n",
      "pizza-10$\n"
     ]
    }
   ],
   "source": [
    "def add(a,b):\n",
    "    e=a+b\n",
    "    print(e)\n",
    "print(\"menu:\\ncola-4$\\nburger-7$\\npizza-10$\")\n",
    "a=input(\"name of product: \")\n",
    "b=input(\"name of prodcut: \")\n",
    "c=input(\"name of prodcut: \")\n",
    "if a==\"cola\" and b==\"burger\" and c==\"pizza\":\n",
    "    a=4\n",
    "    b=7\n",
    "    c=10\n",
    "    e=a+b+c\n",
    "    print(f\"total cost of your products: {e}$\")\n",
    "if a==\"burger\" and b==\"pizza\" and c==\"cola\":\n",
    "    a=7\n",
    "    b=10\n",
    "    c=4\n",
    "    e=a+b+c\n",
    "    print(f\"total cost of your products: {e}$\")\n",
    "if a==\"pizza\" and b==\"cola\" and c==\"burger\":\n",
    "    a=7\n",
    "    b=10\n",
    "    c=4\n",
    "    e=a+b+c\n",
    "    print(f\"total cost of your products: {e}$\")\n",
    "if a==\"burger\":\n",
    "    a=7\n",
    "    print(f\"total cost of your products: {a}$\")\n",
    "if a==\"pizza\":\n",
    "    a=10\n",
    "    print(f\"total cost of your products: {a}$\")\n",
    "if a==\"cola\":\n",
    "    a=4\n",
    "    print(f\"total cost of your products: {a}$\")\n",
    "if a==\"burger\" and b==\"pizza\":\n",
    "    a=7\n",
    "    b=10\n",
    "    e=a+b\n",
    "    print(f\"total cost of your products: {e}$\")\n",
    "if a==\"burger\" and b==\"cola\":\n",
    "    a=7\n",
    "    b=4\n",
    "    e=a+b\n",
    "    print(f\"total cost of your products: {e}$\")\n",
    "if a==\"cola\" and b==\"pizza\":\n",
    "    a=4\n",
    "    b=10\n",
    "    e=a+b\n",
    "    print(f\"total cost of your products: {e}$\")\n",
    "if a==\"cola\" and b==\"burger\":\n",
    "    a=4\n",
    "    b=7\n",
    "    e=a+b+c\n",
    "    print(f\"total cost of your products: {e}$\")\n",
    "if a==\"pizza\" and b==\"burger\":\n",
    "    a=10\n",
    "    b=7\n",
    "    e=a+b\n",
    "    print(f\"total cost of your products: {e}$\")\n",
    "if a==\"pizza\" and b==\"cola\":\n",
    "    a=10\n",
    "    b=4\n",
    "    e=a+b\n",
    "    print(f\"total cost of your products: {e}$\")\n",
    "print(\"thanks for choosing us !!!\")"
   ]
  }
 ],
 "metadata": {
  "kernelspec": {
   "display_name": "Python 3",
   "language": "python",
   "name": "python3"
  },
  "language_info": {
   "codemirror_mode": {
    "name": "ipython",
    "version": 3
   },
   "file_extension": ".py",
   "mimetype": "text/x-python",
   "name": "python",
   "nbconvert_exporter": "python",
   "pygments_lexer": "ipython3",
   "version": "3.8.5"
  }
 },
 "nbformat": 4,
 "nbformat_minor": 4
}
